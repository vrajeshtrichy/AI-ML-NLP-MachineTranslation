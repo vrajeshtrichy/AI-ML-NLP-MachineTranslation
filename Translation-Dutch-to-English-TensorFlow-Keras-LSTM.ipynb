{
 "cells": [
  {
   "cell_type": "markdown",
   "id": "de9516e7",
   "metadata": {},
   "source": [
    "### Dataset"
   ]
  },
  {
   "cell_type": "code",
   "execution_count": null,
   "id": "a66495c5",
   "metadata": {},
   "outputs": [],
   "source": [
    "import os\n",
    "\n",
    "sentences_file_path = '../Data/Dutch-English-SentencePairs/nld.txt'\n",
    "embeddings_file_path = '../Data/glove-6B-WordEmbeddings/glove.6B.100d.txt'"
   ]
  },
  {
   "cell_type": "code",
   "execution_count": null,
   "id": "bad618a9",
   "metadata": {},
   "outputs": [],
   "source": []
  },
  {
   "cell_type": "markdown",
   "id": "7d4f0698",
   "metadata": {},
   "source": [
    "## Pre-process sentence data"
   ]
  },
  {
   "cell_type": "markdown",
   "id": "15df83c4",
   "metadata": {},
   "source": [
    "#### Three lists of sentences must be generated for this LSTM network:\n",
    "\n",
    "\n",
    "1.   input_sentences (consisting of pure Dutch sentences with no processing to be done)\n",
    "\n",
    "2.   input_translated_sentences (consisting of translated English sentences with a starting token denoted as <begin\\> which the encoder LSTM accepts)\n",
    "\n",
    "3.   output_translated_sentences (consisting of translated English sentences with an ending token denoted as <end\\> that is the target output of the neural network)\n"
   ]
  },
  {
   "cell_type": "code",
   "execution_count": null,
   "id": "252d6023",
   "metadata": {},
   "outputs": [],
   "source": []
  }
 ],
 "metadata": {
  "kernelspec": {
   "display_name": "Python 3 (ipykernel)",
   "language": "python",
   "name": "python3"
  },
  "language_info": {
   "codemirror_mode": {
    "name": "ipython",
    "version": 3
   },
   "file_extension": ".py",
   "mimetype": "text/x-python",
   "name": "python",
   "nbconvert_exporter": "python",
   "pygments_lexer": "ipython3",
   "version": "3.9.12"
  }
 },
 "nbformat": 4,
 "nbformat_minor": 5
}
