{
 "cells": [
  {
   "cell_type": "code",
   "execution_count": 1,
   "id": "d0eeed0e",
   "metadata": {},
   "outputs": [],
   "source": [
    "from __future__ import unicode_literals, print_function, division\n",
    "from io import open\n",
    "import unicodedata\n",
    "import string\n",
    "import re\n",
    "import random\n",
    "\n",
    "import torch\n",
    "import torch.nn as nn\n",
    "from torch import optim\n",
    "import torch.nn.functional as F\n",
    "\n",
    "device = torch.device(\"cuda\" if torch.cuda.is_available() else \"cpu\")"
   ]
  },
  {
   "cell_type": "markdown",
   "id": "67e3d9c4",
   "metadata": {},
   "source": [
    "### Dataset"
   ]
  },
  {
   "cell_type": "code",
   "execution_count": 2,
   "id": "0334822a",
   "metadata": {},
   "outputs": [],
   "source": [
    "import os\n",
    "\n",
    "sentences_file_path = '../Data/Dutch-English-SentencePairs/eng-nld.txt'\n",
    "# embeddings_file_path = '../Data/glove-6B-WordEmbeddings/glove.6B.100d.txt'"
   ]
  },
  {
   "cell_type": "code",
   "execution_count": 3,
   "id": "4ddaca9e",
   "metadata": {},
   "outputs": [],
   "source": [
    "SOS_token = 0\n",
    "EOS_token = 1\n",
    "\n",
    "\n",
    "class Lang:\n",
    "    def __init__(self, name):\n",
    "        self.name = name\n",
    "        self.word2index = {}\n",
    "        self.word2count = {}\n",
    "        self.index2word = {0: \"SOS\", 1: \"EOS\"}\n",
    "        self.n_words = 2  # Count SOS and EOS\n",
    "\n",
    "    def addSentence(self, sentence):\n",
    "        for word in sentence.split(' '):\n",
    "            self.addWord(word)\n",
    "\n",
    "    def addWord(self, word):\n",
    "        if word not in self.word2index:\n",
    "            self.word2index[word] = self.n_words\n",
    "            self.word2count[word] = 1\n",
    "            self.index2word[self.n_words] = word\n",
    "            self.n_words += 1\n",
    "        else:\n",
    "            self.word2count[word] += 1"
   ]
  },
  {
   "cell_type": "code",
   "execution_count": 4,
   "id": "9ba5b83e",
   "metadata": {},
   "outputs": [],
   "source": [
    "# Preprocess"
   ]
  },
  {
   "cell_type": "code",
   "execution_count": 5,
   "id": "0d9a40f2",
   "metadata": {},
   "outputs": [],
   "source": [
    "# Turn a Unicode string to plain ASCII, thanks to\n",
    "# https://stackoverflow.com/a/518232/2809427\n",
    "def unicodeToAscii(s):\n",
    "    return ''.join(\n",
    "        c for c in unicodedata.normalize('NFD', s)\n",
    "        if unicodedata.category(c) != 'Mn'\n",
    "    )\n",
    "\n",
    "# Lowercase, trim, and remove non-letter characters\n",
    "\n",
    "\n",
    "def normalizeString(s):\n",
    "    s = unicodeToAscii(s.lower().strip())\n",
    "    s = re.sub(r\"([.!?])\", r\" \\1\", s)\n",
    "    s = re.sub(r\"[^a-zA-Z.!?]+\", r\" \", s)\n",
    "    return s"
   ]
  },
  {
   "cell_type": "code",
   "execution_count": 9,
   "id": "aabbe4da",
   "metadata": {},
   "outputs": [],
   "source": [
    "def readLangs(lang1, lang2, reverse=False):\n",
    "    print(\"Reading lines...\")\n",
    "\n",
    "    # Read the file and split into lines\n",
    "#     lines = open('data/%s-%s.txt' % (lang1, lang2), encoding='utf-8').read().strip().split('\\n')\n",
    "    lines = open(sentences_file_path, encoding='utf-8').read().strip().split('\\n')\n",
    "    # Split every line into pairs and normalize\n",
    "    pairs = [[normalizeString(s) for s in l.split('\\t')[0:2]] for l in lines]\n",
    "\n",
    "    # Reverse pairs, make Lang instances\n",
    "    if reverse:\n",
    "        pairs = [list(reversed(p)) for p in pairs]\n",
    "        input_lang = Lang(lang2)\n",
    "        output_lang = Lang(lang1)\n",
    "    else:\n",
    "        input_lang = Lang(lang1)\n",
    "        output_lang = Lang(lang2)\n",
    "\n",
    "    return input_lang, output_lang, pairs"
   ]
  },
  {
   "cell_type": "code",
   "execution_count": 12,
   "id": "c95c473e",
   "metadata": {},
   "outputs": [],
   "source": [
    "MAX_LENGTH = 10\n",
    "\n",
    "eng_prefixes = (\n",
    "    \"i am \", \"i m \",\n",
    "    \"he is\", \"he s \",\n",
    "    \"she is\", \"she s \",\n",
    "    \"you are\", \"you re \",\n",
    "    \"we are\", \"we re \",\n",
    "    \"they are\", \"they re \", \n",
    "    \"hi\"\n",
    ")\n",
    "\n",
    "\n",
    "def filterPair(p):\n",
    "#     print(p)\n",
    "    return len(p[0].split(' ')) < MAX_LENGTH and \\\n",
    "        len(p[1].split(' ')) < MAX_LENGTH and \\\n",
    "        p[1].startswith(eng_prefixes)\n",
    "\n",
    "\n",
    "def filterPairs(pairs):\n",
    "    return [pair for pair in pairs if filterPair(pair)]"
   ]
  },
  {
   "cell_type": "code",
   "execution_count": 13,
   "id": "91b8f4ea",
   "metadata": {},
   "outputs": [
    {
     "name": "stdout",
     "output_type": "stream",
     "text": [
      "Reading lines...\n",
      "Read 72911 sentence pairs\n",
      "Trimmed to 4855 sentence pairs\n",
      "Counting words...\n",
      "Counted words:\n",
      "nld 2482\n",
      "eng 2098\n",
      "['ik ben maria s vriend .', 'i m mary s boyfriend .']\n"
     ]
    }
   ],
   "source": [
    "def prepareData(lang1, lang2, reverse=False):\n",
    "    input_lang, output_lang, pairs = readLangs(lang1, lang2, reverse)\n",
    "    print(\"Read %s sentence pairs\" % len(pairs))\n",
    "    pairs = filterPairs(pairs)\n",
    "    print(\"Trimmed to %s sentence pairs\" % len(pairs))\n",
    "    print(\"Counting words...\")\n",
    "    for pair in pairs:\n",
    "        input_lang.addSentence(pair[0])\n",
    "        output_lang.addSentence(pair[1])\n",
    "    print(\"Counted words:\")\n",
    "    print(input_lang.name, input_lang.n_words)\n",
    "    print(output_lang.name, output_lang.n_words)\n",
    "    return input_lang, output_lang, pairs\n",
    "\n",
    "\n",
    "input_lang, output_lang, pairs = prepareData('eng', 'nld', True)\n",
    "print(random.choice(pairs))"
   ]
  },
  {
   "cell_type": "code",
   "execution_count": null,
   "id": "8627d549",
   "metadata": {},
   "outputs": [],
   "source": []
  },
  {
   "cell_type": "code",
   "execution_count": null,
   "id": "237deb5b",
   "metadata": {},
   "outputs": [],
   "source": []
  },
  {
   "cell_type": "code",
   "execution_count": null,
   "id": "3e8f6ef4",
   "metadata": {},
   "outputs": [],
   "source": []
  },
  {
   "cell_type": "code",
   "execution_count": null,
   "id": "17407a78",
   "metadata": {},
   "outputs": [],
   "source": []
  },
  {
   "cell_type": "code",
   "execution_count": null,
   "id": "876fddc3",
   "metadata": {},
   "outputs": [],
   "source": []
  },
  {
   "cell_type": "code",
   "execution_count": null,
   "id": "a71ccfa5",
   "metadata": {},
   "outputs": [],
   "source": []
  },
  {
   "cell_type": "code",
   "execution_count": null,
   "id": "3758b26e",
   "metadata": {},
   "outputs": [],
   "source": []
  },
  {
   "cell_type": "markdown",
   "id": "6422cabc",
   "metadata": {},
   "source": [
    "## Pre-process sentence data"
   ]
  },
  {
   "cell_type": "markdown",
   "id": "10a55ed3",
   "metadata": {},
   "source": [
    "#### Three lists of sentences must be generated for this LSTM network:\n",
    "\n",
    "\n",
    "1.   input_sentences (consisting of pure Dutch sentences with no processing to be done)\n",
    "\n",
    "2.   input_translated_sentences (consisting of translated English sentences with a starting token denoted as <begin\\> which the encoder LSTM accepts)\n",
    "\n",
    "3.   output_translated_sentences (consisting of translated English sentences with an ending token denoted as <end\\> that is the target output of the neural network)\n"
   ]
  },
  {
   "cell_type": "code",
   "execution_count": 18,
   "id": "c6ec4cf2",
   "metadata": {},
   "outputs": [],
   "source": [
    "import re\n",
    "\n",
    "# Designate a total sentence count for the LSTM to learn from.\n",
    "SENTENCE_COUNT = 40000\n",
    "\n",
    "input_sentences = []\n",
    "input_translated_sentences = []\n",
    "output_translated_sentences = []\n",
    "\n",
    "count = 0\n",
    "for line in open(sentences_file_path, encoding='utf-8'):\n",
    "    if count < SENTENCE_COUNT:\n",
    "        if '\\t' in line:\n",
    "            # Removes spaces/punctuation and splits each line based on tab.\n",
    "            # First value: English phrase, Second value: Dutch phrase\n",
    "            line = re.sub(r'[^\\w\\s]','', line)\n",
    "            line_values = line.rstrip().split('\\t')\n",
    "            input_sentences.append(line_values[1])\n",
    "\n",
    "            # Tokens are symbols for 'start' and 'end' respectively in Chinese.\n",
    "            # This ensures no confusion between English words 'start' and 'end'.\n",
    "            input_translated_sentence = '走 ' + line_values[0]\n",
    "            output_translated_sentence = line_values[0] + ' 停'\n",
    "\n",
    "            input_translated_sentences.append(input_translated_sentence)\n",
    "            output_translated_sentences.append(output_translated_sentence)\n",
    "            count += 1\n",
    "    else:\n",
    "        break"
   ]
  },
  {
   "cell_type": "code",
   "execution_count": 19,
   "id": "4d447bfa",
   "metadata": {},
   "outputs": [
    {
     "name": "stdout",
     "output_type": "stream",
     "text": [
      "['Lopen', 'Vooruit', 'Hoi', 'Hé', 'Hai']\n",
      "['走 Go', '走 Go', '走 Hi', '走 Hi', '走 Hi']\n",
      "['Go 停', 'Go 停', 'Hi 停', 'Hi 停', 'Hi 停']\n"
     ]
    }
   ],
   "source": [
    "print(input_sentences[0:5])\n",
    "print(input_translated_sentences[0:5])\n",
    "print(output_translated_sentences[0:5])"
   ]
  },
  {
   "cell_type": "markdown",
   "id": "e7409a7e",
   "metadata": {},
   "source": [
    "### Tokenization"
   ]
  },
  {
   "cell_type": "markdown",
   "id": "195d8940",
   "metadata": {},
   "source": [
    "##### Input Sentences Tokenizer"
   ]
  },
  {
   "cell_type": "code",
   "execution_count": 20,
   "id": "a7e14bcd",
   "metadata": {},
   "outputs": [
    {
     "name": "stderr",
     "output_type": "stream",
     "text": [
      "2023-03-20 13:58:05.408693: I tensorflow/core/platform/cpu_feature_guard.cc:193] This TensorFlow binary is optimized with oneAPI Deep Neural Network Library (oneDNN) to use the following CPU instructions in performance-critical operations:  AVX2 FMA\n",
      "To enable them in other operations, rebuild TensorFlow with the appropriate compiler flags.\n"
     ]
    }
   ],
   "source": [
    "from tensorflow.keras.preprocessing.text import Tokenizer\n",
    "\n",
    "VOCABULARY_SIZE = 25000\n",
    "\n",
    "# Instantiate a Tokenizer instance which takes in a max vocabulary size.\n",
    "input_tokenizer = Tokenizer(num_words=VOCABULARY_SIZE)\n",
    "input_tokenizer.fit_on_texts(input_sentences)\n",
    "\n",
    "# Extract numerical sequences of each input sentence.\n",
    "input_sequences = input_tokenizer.texts_to_sequences(input_sentences)\n",
    "\n",
    "# Extract word:index dictionary of each word in the input sentences.\n",
    "word_index_dict = input_tokenizer.word_index\n",
    "word_count = len(word_index_dict) + 1\n",
    "\n",
    "# Find maximum sentence length out of all input sentences.\n",
    "max_input_length = max(len(seq) for seq in input_sequences)"
   ]
  },
  {
   "cell_type": "markdown",
   "id": "de2595c3",
   "metadata": {},
   "source": [
    "##### Output Sentences Tokenizer"
   ]
  },
  {
   "cell_type": "code",
   "execution_count": 21,
   "id": "16ab0f5a",
   "metadata": {},
   "outputs": [],
   "source": [
    "# Same process as before.\n",
    "output_tokenizer = Tokenizer(num_words=VOCABULARY_SIZE)\n",
    "output_tokenizer.fit_on_texts(input_translated_sentences + output_translated_sentences)\n",
    "\n",
    "# Extract numerical sequences of each input/output translated sentence.\n",
    "input_translated_sequences = output_tokenizer.texts_to_sequences(input_translated_sentences)\n",
    "output_translated_sequences = output_tokenizer.texts_to_sequences(output_translated_sentences)\n",
    "\n",
    "# Retrieve a word:index dictionary of each word in the input/output translated sentences.\n",
    "translated_word_index_dict = output_tokenizer.word_index\n",
    "translated_word_count = len(translated_word_index_dict) + 1\n",
    "\n",
    "# Find maximum input length for padding.\n",
    "max_output_length = max([len(seq) for seq in output_translated_sequences])"
   ]
  },
  {
   "cell_type": "markdown",
   "id": "c4a1b9f0",
   "metadata": {},
   "source": [
    "### Padding"
   ]
  },
  {
   "cell_type": "code",
   "execution_count": 22,
   "id": "334863f4",
   "metadata": {},
   "outputs": [],
   "source": [
    "from tensorflow.keras.preprocessing.sequence import pad_sequences\n",
    "\n",
    "encoder_input_sequences = pad_sequences(input_sequences, maxlen=max_input_length)\n",
    "decoder_input_sequences = pad_sequences(input_translated_sequences, maxlen=max_output_length, padding='post')\n",
    "decoder_output_sequences = pad_sequences(output_translated_sequences, maxlen=max_output_length, padding='post')"
   ]
  },
  {
   "cell_type": "markdown",
   "id": "34830825",
   "metadata": {},
   "source": [
    "### Embedding"
   ]
  },
  {
   "cell_type": "code",
   "execution_count": 23,
   "id": "442bf158",
   "metadata": {},
   "outputs": [],
   "source": [
    "import numpy as np\n",
    "from numpy import array, asarray, zeros\n",
    "\n",
    "embeddings_dict = dict()\n",
    "glove_file = open(embeddings_file_path)\n",
    "\n",
    "for line in glove_file:\n",
    "    records = line.split() # Turn into array with word on first position and embeddings as rest of line.\n",
    "    word = records[0]\n",
    "    vector_dim = asarray(records[1:], dtype='float32') # Take rest of embeddings out.\n",
    "    embeddings_dict[word] = vector_dim # Add to embeddings_dict as word:embeddings."
   ]
  },
  {
   "cell_type": "code",
   "execution_count": null,
   "id": "1e36a21c",
   "metadata": {},
   "outputs": [],
   "source": []
  }
 ],
 "metadata": {
  "kernelspec": {
   "display_name": "Python 3 (ipykernel)",
   "language": "python",
   "name": "python3"
  },
  "language_info": {
   "codemirror_mode": {
    "name": "ipython",
    "version": 3
   },
   "file_extension": ".py",
   "mimetype": "text/x-python",
   "name": "python",
   "nbconvert_exporter": "python",
   "pygments_lexer": "ipython3",
   "version": "3.9.12"
  }
 },
 "nbformat": 4,
 "nbformat_minor": 5
}
